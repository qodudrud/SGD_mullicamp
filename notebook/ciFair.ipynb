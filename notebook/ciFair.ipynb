{
 "cells": [
  {
   "cell_type": "code",
   "execution_count": 1,
   "id": "8c2bbaeb",
   "metadata": {},
   "outputs": [],
   "source": [
    "import sys\n",
    "sys.path.append('..')\n",
    "\n",
    "# OS and system\n",
    "import os\n",
    "import gc\n",
    "import argparse\n",
    "from argparse import Namespace\n",
    "import pickle\n",
    "\n",
    "# utils\n",
    "from functools import partial\n",
    "from copy import deepcopy\n",
    "from tqdm import tqdm\n",
    "import time\n",
    "\n",
    "# mathematics\n",
    "import matplotlib.pyplot as plt\n",
    "import numpy as np\n",
    "import random\n",
    "\n",
    "# data handling\n",
    "import pandas as pd\n",
    "\n",
    "# Torch\n",
    "import torch\n",
    "import torch.nn as nn\n",
    "import torch.nn.functional as F\n",
    "import torch.optim as optim\n",
    "from torch.autograd import Variable\n",
    "\n",
    "# Torchvision\n",
    "import torchvision\n",
    "\n",
    "# logging\n",
    "# import wandb\n",
    "\n",
    "# my_lib\n",
    "from model.net import *\n",
    "from model.train import train, test\n",
    "from misc.utils import save_checkpoint, load_transform, load_dataset\n"
   ]
  },
  {
   "cell_type": "code",
   "execution_count": 4,
   "id": "80bc1606",
   "metadata": {},
   "outputs": [],
   "source": [
    "args = Namespace()\n",
    "\n",
    "# args\n",
    "args.data = 'cifair'\n",
    "args.path_data = '../data/'\n",
    "args.num_classes = 10\n",
    "args.seed = 1\n",
    "args.trainset_size = 500\n",
    "args.validset_size = 10000\n",
    "args.device = 'cuda' if torch.cuda.is_available() else 'cpu'\n",
    "\n",
    "# model\n",
    "args.model = 'vcnn'\n",
    "args.loss_type = 'ce'\n",
    "args.class_dependent = 0\n",
    "\n",
    "# dataset\n",
    "args.split = 0\n",
    "args.noise_rate = 0.0\n",
    "args.noisy_valid = False\n",
    "\n",
    "# seed reset\n",
    "torch.manual_seed(args.seed)\n",
    "torch.cuda.manual_seed(args.seed)\n",
    "torch.cuda.manual_seed_all(args.seed) # if use multi-GPU\n",
    "random.seed(args.seed)\n",
    "np.random.seed(args.seed)\n"
   ]
  },
  {
   "cell_type": "code",
   "execution_count": 5,
   "id": "e807234f",
   "metadata": {},
   "outputs": [
    {
     "name": "stdout",
     "output_type": "stream",
     "text": [
      "Files already downloaded and verified\n",
      "Files already downloaded and verified\n",
      "Files already downloaded and verified\n",
      "500 10000 10000\n"
     ]
    }
   ],
   "source": [
    "transforms = load_transform(args)\n",
    "train_dataset, valid_dataset, test_dataset = load_dataset(transforms, args)\n",
    "\n",
    "print(len(train_dataset), len(valid_dataset), len(test_dataset))"
   ]
  },
  {
   "cell_type": "code",
   "execution_count": 6,
   "id": "7a0385e5",
   "metadata": {},
   "outputs": [
    {
     "name": "stdout",
     "output_type": "stream",
     "text": [
      "torch train loader loaded.\n",
      "torch valid loader loaded.\n",
      "torch test loader loaded.\n"
     ]
    }
   ],
   "source": [
    "from torch.utils.data import RandomSampler\n",
    "\n",
    "# dataloader\n",
    "# args.batch_size = len(train_dataset) # full-batch gradient descent (GD)\n",
    "args.batch_size = len(train_dataset)  # mini-batch gradient descent (SGD)\n",
    "args.test_batch_size = 2048\n",
    "args.num_workers = 4\n",
    "\n",
    "# sampler = RandomSampler(train_dataset, replacement=True, num_samples=len(train_dataset))\n",
    "\n",
    "# trainloader = torch.utils.data.DataLoader(train_dataset, batch_size=args.batch_size, sampler=sampler, num_workers=args.num_workers, pin_memory=True)\n",
    "trainloader = torch.utils.data.DataLoader(train_dataset, batch_size=args.batch_size, shuffle=True, num_workers=args.num_workers, pin_memory=True)\n",
    "print('torch train loader loaded.')\n",
    "validloader = torch.utils.data.DataLoader(valid_dataset, batch_size=args.test_batch_size, shuffle=False, num_workers=args.num_workers, pin_memory=True)\n",
    "print('torch valid loader loaded.')\n",
    "testloader = torch.utils.data.DataLoader(test_dataset, batch_size=args.test_batch_size, shuffle=False, num_workers=args.num_workers, pin_memory=True)\n",
    "print('torch test loader loaded.')"
   ]
  },
  {
   "cell_type": "code",
   "execution_count": 5,
   "id": "509b0ae4",
   "metadata": {},
   "outputs": [],
   "source": [
    "def hessian_vector_product(flat_grads, params, v):\n",
    "    # Compute dot(grad, v)\n",
    "    grad_v = torch.dot(flat_grads, v)\n",
    "    second_grads = torch.autograd.grad(grad_v, params, retain_graph=True)\n",
    "    return torch.cat([g.contiguous().view(-1) for g in second_grads])\n",
    "\n",
    "\n",
    "def cal_hessian_trace(model, data_loader, device='cuda', num_samples=10):\n",
    "    \"\"\"\n",
    "    Estimate the trace of the Hessian matrix using Hutchinson's method.\n",
    "    \n",
    "    Args:\n",
    "        model: The neural network model.\n",
    "        data_loader: DataLoader for the dataset.\n",
    "        device: Device to perform computations ('cuda' or 'cpu').\n",
    "        num_samples: Number of samples for Hutchinson's method.\n",
    "    \n",
    "    Returns:\n",
    "        Estimated trace of the Hessian matrix.\n",
    "    \"\"\"\n",
    "    model.eval()\n",
    "    criterion = nn.CrossEntropyLoss(reduction='none')\n",
    "\n",
    "    total_loss = 0.0\n",
    "    for i, data in enumerate(data_loader):\n",
    "        inputs, labels = data[0].to(args.device), data[1].to(args.device).long()\n",
    "\n",
    "        outputs = model(inputs)\n",
    "        loss = criterion(outputs, labels)\n",
    "        total_loss += loss.sum()\n",
    "\n",
    "    # Compute the total loss over the entire dataset\n",
    "    total_loss = total_loss / len(data_loader.dataset)\n",
    "    \n",
    "    params = [p for p in model.parameters() if p.requires_grad]\n",
    "    flat_params = torch.cat([p.view(-1) for p in params])\n",
    "\n",
    "    # Compute first-order gradients\n",
    "    grads = torch.autograd.grad(total_loss, params, create_graph=True)\n",
    "    flat_grads = torch.cat([g.view(-1) for g in grads])\n",
    "\n",
    "    trace_estimate = 0.0\n",
    "    for _ in range(num_samples):\n",
    "        # v ~ Rademacher distribution: ±1\n",
    "        v = torch.randint_like(flat_params, low=0, high=2) * 2 - 1\n",
    "        Hv = hessian_vector_product(flat_grads, params, v)\n",
    "        trace_estimate += torch.dot(v, Hv).item()\n",
    "\n",
    "    return trace_estimate / num_samples"
   ]
  },
  {
   "cell_type": "code",
   "execution_count": 10,
   "id": "3d66a564",
   "metadata": {},
   "outputs": [],
   "source": [
    "class NoiseInjector:\n",
    "    def __init__(self, model, args):\n",
    "        self.device = args.device\n",
    "        self.eps = args.perturb_eps\n",
    "        self.perturb_type = args.perturb_type\n",
    "        self.lr = args.lr\n",
    "        \n",
    "        self.std = self.eps * np.sqrt(self.lr) # Standard deviation for Gaussian noise\n",
    "        \n",
    "        self.param_shapes = [p.shape for p in model.parameters() if p.requires_grad]\n",
    "        self.total_size = sum(p.numel() for p in model.parameters() if p.requires_grad)\n",
    "\n",
    "        if args.perturb_type == 'anti':\n",
    "            self.eps0 = args.perturb_eps0\n",
    "            self.std = self.eps0 * np.sqrt(self.lr) # Standard deviation for Gaussian noise\n",
    "\n",
    "            self.tau = args.perturb_tau\n",
    "            self.anti_std = (self.eps/self.tau) * np.sqrt(self.lr)\n",
    "\n",
    "            stationary_var = (self.eps ** 2 / self.tau) / (2 - self.lr / self.tau)\n",
    "            self.anti_noise = torch.randn(self.total_size, device=self.device) * np.sqrt(stationary_var)\n",
    "            self.anti_noise = self.anti_noise.to(self.device)\n",
    "\n",
    "    def _update_anti_noise(self):\n",
    "        with torch.no_grad():\n",
    "            return (1 - (self.lr/self.tau)) * self.anti_noise + torch.randn(self.anti_noise.size()).to(self.device) * self.anti_std\n",
    "\n",
    "    def generate_noise(self):\n",
    "        if self.perturb_type == 'random':\n",
    "            return torch.randn(self.total_size, device=self.device) * self.std\n",
    "        elif self.perturb_type == 'anti':\n",
    "            next_anti_noise = self._update_anti_noise()\n",
    "            inj_noise = self.tau * (next_anti_noise - self.anti_noise) # add colored noise\n",
    "            inj_noise += torch.randn(self.total_size, device=self.device) * self.std # add Gaussian noise\n",
    "            self.anti_noise = next_anti_noise\n",
    "            return inj_noise\n",
    "\n",
    "    def apply_noise(self, model):\n",
    "        inj_noise = self.generate_noise()\n",
    "\n",
    "        offset = 0\n",
    "        with torch.no_grad():\n",
    "            for p in model.parameters():\n",
    "                if p.requires_grad:\n",
    "                    num = p.numel()\n",
    "                    p.add_(inj_noise[offset:offset+num].view_as(p))\n",
    "                    offset += num"
   ]
  },
  {
   "cell_type": "code",
   "execution_count": 8,
   "id": "b16e5c1b",
   "metadata": {},
   "outputs": [],
   "source": [
    "# def initialize_v(model, device):\n",
    "#     v_list = []\n",
    "#     for m in model.modules():\n",
    "#         if isinstance(m, nn.Linear) or isinstance(m, nn.Conv2d):\n",
    "#             v_list.append(torch.zeros_like(m.weight).flatten())\n",
    "#             if m.bias is not None:\n",
    "#                 v_list.append(torch.zeros_like(m.bias).flatten())\n",
    "#     return torch.cat(v_list).to(device)\n",
    "\n",
    "\n",
    "# def perturb_model_(m, lr, eps, device):\n",
    "#     with torch.no_grad():\n",
    "#         if isinstance(m, nn.Conv2d) or isinstance(m, nn.Linear):\n",
    "#             # perturb the weights and biases of the layer\n",
    "#             w_perturb = torch.randn(m.weight.size()).to(device)*(m.weight.norm(p=2)/np.sqrt(m.weight.flatten().size()[0])) * eps * torch.sqrt(lr)\n",
    "#             m.weight.add_(w_perturb)\n",
    "#             if m.bias is not None:\n",
    "#                 b_perturb = torch.randn(m.bias.size()).to(device)*(m.bias.norm(p=2)/np.sqrt(m.bias.flatten().size()[0])) * eps * torch.sqrt(lr)\n",
    "#                 m.bias.add_(b_perturb)\n",
    "\n",
    "\n",
    "# def update_aoup_(v, lr, eps, tau, device):\n",
    "#     with torch.no_grad():\n",
    "#         # update the perturbation vector v_t\n",
    "#         return (1 - (lr/tau)) * v + torch.randn(v.size()).to(device) * (eps/tau) * torch.sqrt(lr) * (v.norm(p=2)/np.sqrt(v.flatten().size()[0]))\n",
    "\n",
    "\n",
    "# def anti_perturb_model_(m, v, lr, eps, tau, device):\n",
    "#     with torch.no_grad():\n",
    "#         if isinstance(m, nn.Conv2d) or isinstance(m, nn.Linear):\n",
    "#             # perturb the weights and biases of the layer\n",
    "#             perturb_model_(m, lr, eps/2, device)\n",
    "\n",
    "#             # add the anti-perturbation vector dv\n",
    "#             v_next = update_aoup_(v, lr, eps/2, tau, device).to(device)\n",
    "#             dv = v_next - v\n",
    "#             m.weight.add_(tau * dv[0:m.weight.numel()].view(m.weight.size()))\n",
    "#             if m.bias is not None:\n",
    "#                 m.bias.add_(tau * dv[m.weight.numel():].view(m.bias.size()))\n",
    "\n",
    "#             v.copy_(v_next)\n",
    "\n",
    "\n",
    "def train(model, train_loader, optim, args, noise_injector = None, save_acc = False):\n",
    "    \"\"\"\n",
    "        Train the model for one epoch.\n",
    "        Args:\n",
    "            model: the model to be trained\n",
    "            train_loader: the dataloader for training data\n",
    "            optim: the optimizer for the model\n",
    "            args: the arguments for training\n",
    "            perturb_model: a function to perturb the model (optional)\n",
    "        Returns:\n",
    "            train_log: a dictionary containing the training loss and accuracy (if save_acc is True)\n",
    "    \"\"\"\n",
    "    train_log = {}\n",
    "    train_log['loss'] = []\n",
    "    train_log['acc'] = [] \n",
    "\n",
    "    model.train()\n",
    "    for i, data in enumerate(train_loader):\n",
    "        with torch.autograd.set_detect_anomaly(True):\n",
    "            optim.zero_grad()\n",
    "\n",
    "            inputs, labels = data[0].to(args.device), data[1].to(args.device).long()\n",
    "            outputs = model(inputs)\n",
    "\n",
    "            if args.loss_type == 'ce':\n",
    "                criterion = nn.CrossEntropyLoss(reduction='none')\n",
    "                loss = criterion(outputs, labels)\n",
    "                loss = loss.mean()\n",
    "\n",
    "            loss.backward()\n",
    "            optim.step()\n",
    "\n",
    "            # perturb the model\n",
    "            if noise_injector is not None:\n",
    "                if args.perturb_eps != 0:\n",
    "                    noise_injector.apply_noise(model)\n",
    "\n",
    "            # save the training accuracy\n",
    "            if save_acc:\n",
    "                # calculate acc.\n",
    "                _, pred = torch.max(outputs.data, 1)\n",
    "                correct = (pred == labels).sum()\n",
    "                total = labels.size(0)\n",
    "                acc = (100*correct/total).detach().cpu().numpy()\n",
    "            else:\n",
    "                acc = 0\n",
    "\n",
    "            train_log['loss'].append(loss.detach().cpu().numpy())\n",
    "            train_log['acc'].append(acc)\n",
    "            \n",
    "    return train_log\n",
    "\n",
    "\n",
    "def test(model, test_loader, args):\n",
    "    \"\"\"\n",
    "        Test the model on the test set.\n",
    "        Args:\n",
    "            model: the model to be tested\n",
    "            test_loader: the dataloader for test data\n",
    "            args: the arguments for testing\n",
    "        Returns:\n",
    "            test_log: a dictionary containing the test loss and accuracy\n",
    "    \"\"\"\n",
    "    test_log = {}\n",
    "    test_log['loss'] = []\n",
    "    test_log['acc'] = []\n",
    "\n",
    "    correct = 0\n",
    "    total = 0\n",
    "    loss = 0\n",
    "    \n",
    "    model.eval()\n",
    "    criterion = nn.CrossEntropyLoss(reduction='none')\n",
    "    with torch.no_grad():\n",
    "        for i, data in enumerate(test_loader):\n",
    "            inputs, labels = data[0].to(args.device), data[1].to(args.device).long()\n",
    "            outputs = model(inputs)\n",
    "            \n",
    "            # calculate acc.\n",
    "            _, pred = torch.max(outputs.data, 1)\n",
    "            total += labels.size(0)\n",
    "            correct += (pred == labels).sum()\n",
    "            \n",
    "            # calculate loss\n",
    "            loss_ = criterion(outputs, labels)\n",
    "            loss_ = loss_.sum()\n",
    "            loss += loss_.detach().cpu().numpy()\n",
    "\n",
    "    test_log['loss'].append(loss/len(test_loader.dataset))\n",
    "    test_log['acc'].append((100*correct/total).detach().cpu().numpy())\n",
    "                \n",
    "    return test_log"
   ]
  },
  {
   "cell_type": "code",
   "execution_count": null,
   "id": "4f5e8308",
   "metadata": {},
   "outputs": [],
   "source": [
    "args.lr = 1e-2\n",
    "args.momentum = 0.0\n",
    "args.weight_decay = 0.0\n",
    "\n",
    "args.perturb_eps0 = 0.0\n",
    "args.perturb_eps = 0.01\n",
    "args.perturb_type = 'anti' # 'random', 'anti'\n",
    "args.perturb_tau = 1\n",
    "\n",
    "curr_net, best_net = load_model(args)\n",
    "curr_optimizer = optim.SGD(curr_net.parameters(), lr=args.lr, momentum=args.momentum, weight_decay=args.weight_decay)\n",
    "\n",
    "# perturb_func = partial(perturb_model_, lr=args.lr, eps=args.perturb_eps, device=args.device)\n",
    "# anti_perturb_func = partial(anti_perturb_model_, lr=args.lr, eps=args.perturb_eps, tau=args.tau, device=args.device)\n",
    "\n",
    "noise_injector = NoiseInjector(curr_net, args)"
   ]
  },
  {
   "cell_type": "code",
   "execution_count": 67,
   "id": "96c7e63e",
   "metadata": {},
   "outputs": [
    {
     "name": "stdout",
     "output_type": "stream",
     "text": [
      "198.33652885258198\n",
      "198.67182936519384\n"
     ]
    }
   ],
   "source": [
    "print(np.sum([torch.norm(p, 2).item() for p in curr_net.parameters()]))\n",
    "\n",
    "noise_injector.apply_noise(curr_net)\n",
    "print(np.sum([torch.norm(p, 2).item() for p in curr_net.parameters()]))"
   ]
  },
  {
   "cell_type": "code",
   "execution_count": null,
   "id": "c67725de",
   "metadata": {},
   "outputs": [],
   "source": []
  },
  {
   "cell_type": "code",
   "execution_count": 8,
   "id": "f81ef4a6",
   "metadata": {},
   "outputs": [
    {
     "name": "stdout",
     "output_type": "stream",
     "text": [
      "Epoch: 1\n"
     ]
    },
    {
     "ename": "OutOfMemoryError",
     "evalue": "CUDA out of memory. Tried to allocate 626.00 MiB. GPU 0 has a total capacity of 11.99 GiB of which 0 bytes is free. Of the allocated memory 16.67 GiB is allocated by PyTorch, and 33.63 MiB is reserved by PyTorch but unallocated. If reserved but unallocated memory is large try setting PYTORCH_CUDA_ALLOC_CONF=expandable_segments:True to avoid fragmentation.  See documentation for Memory Management  (https://pytorch.org/docs/stable/notes/cuda.html#environment-variables)",
     "output_type": "error",
     "traceback": [
      "\u001b[1;31m---------------------------------------------------------------------------\u001b[0m",
      "\u001b[1;31mOutOfMemoryError\u001b[0m                          Traceback (most recent call last)",
      "Cell \u001b[1;32mIn[8], line 8\u001b[0m\n\u001b[0;32m      6\u001b[0m \u001b[38;5;28;01mfor\u001b[39;00m epoch \u001b[38;5;129;01min\u001b[39;00m \u001b[38;5;28mrange\u001b[39m(\u001b[38;5;241m1\u001b[39m, \u001b[38;5;241m2\u001b[39m):\n\u001b[0;32m      7\u001b[0m     \u001b[38;5;28mprint\u001b[39m(\u001b[38;5;124m'\u001b[39m\u001b[38;5;124mEpoch:\u001b[39m\u001b[38;5;124m'\u001b[39m, epoch)\n\u001b[1;32m----> 8\u001b[0m     train_log \u001b[38;5;241m=\u001b[39m train(curr_net, trainloader, curr_optimizer, args, noise_injector\u001b[38;5;241m=\u001b[39m\u001b[38;5;28;01mNone\u001b[39;00m)\n\u001b[0;32m      9\u001b[0m     \u001b[38;5;66;03m# train_log = train(curr_net, trainloader, curr_optimizer, args, noise_injector=noise_injector)\u001b[39;00m\n\u001b[0;32m     10\u001b[0m     test_log \u001b[38;5;241m=\u001b[39m test(curr_net, testloader, args)\n",
      "Cell \u001b[1;32mIn[6], line 66\u001b[0m, in \u001b[0;36mtrain\u001b[1;34m(model, train_loader, optim, args, noise_injector, save_acc)\u001b[0m\n\u001b[0;32m     63\u001b[0m optim\u001b[38;5;241m.\u001b[39mzero_grad()\n\u001b[0;32m     65\u001b[0m inputs, labels \u001b[38;5;241m=\u001b[39m data[\u001b[38;5;241m0\u001b[39m]\u001b[38;5;241m.\u001b[39mto(args\u001b[38;5;241m.\u001b[39mdevice), data[\u001b[38;5;241m1\u001b[39m]\u001b[38;5;241m.\u001b[39mto(args\u001b[38;5;241m.\u001b[39mdevice)\u001b[38;5;241m.\u001b[39mlong()\n\u001b[1;32m---> 66\u001b[0m outputs \u001b[38;5;241m=\u001b[39m model(inputs)\n\u001b[0;32m     68\u001b[0m \u001b[38;5;28;01mif\u001b[39;00m args\u001b[38;5;241m.\u001b[39mloss_type \u001b[38;5;241m==\u001b[39m \u001b[38;5;124m'\u001b[39m\u001b[38;5;124mce\u001b[39m\u001b[38;5;124m'\u001b[39m:\n\u001b[0;32m     69\u001b[0m     criterion \u001b[38;5;241m=\u001b[39m nn\u001b[38;5;241m.\u001b[39mCrossEntropyLoss(reduction\u001b[38;5;241m=\u001b[39m\u001b[38;5;124m'\u001b[39m\u001b[38;5;124mnone\u001b[39m\u001b[38;5;124m'\u001b[39m)\n",
      "File \u001b[1;32mc:\\Users\\TARDIS\\anaconda3\\Lib\\site-packages\\torch\\nn\\modules\\module.py:1511\u001b[0m, in \u001b[0;36mModule._wrapped_call_impl\u001b[1;34m(self, *args, **kwargs)\u001b[0m\n\u001b[0;32m   1509\u001b[0m     \u001b[38;5;28;01mreturn\u001b[39;00m \u001b[38;5;28mself\u001b[39m\u001b[38;5;241m.\u001b[39m_compiled_call_impl(\u001b[38;5;241m*\u001b[39margs, \u001b[38;5;241m*\u001b[39m\u001b[38;5;241m*\u001b[39mkwargs)  \u001b[38;5;66;03m# type: ignore[misc]\u001b[39;00m\n\u001b[0;32m   1510\u001b[0m \u001b[38;5;28;01melse\u001b[39;00m:\n\u001b[1;32m-> 1511\u001b[0m     \u001b[38;5;28;01mreturn\u001b[39;00m \u001b[38;5;28mself\u001b[39m\u001b[38;5;241m.\u001b[39m_call_impl(\u001b[38;5;241m*\u001b[39margs, \u001b[38;5;241m*\u001b[39m\u001b[38;5;241m*\u001b[39mkwargs)\n",
      "File \u001b[1;32mc:\\Users\\TARDIS\\anaconda3\\Lib\\site-packages\\torch\\nn\\modules\\module.py:1520\u001b[0m, in \u001b[0;36mModule._call_impl\u001b[1;34m(self, *args, **kwargs)\u001b[0m\n\u001b[0;32m   1515\u001b[0m \u001b[38;5;66;03m# If we don't have any hooks, we want to skip the rest of the logic in\u001b[39;00m\n\u001b[0;32m   1516\u001b[0m \u001b[38;5;66;03m# this function, and just call forward.\u001b[39;00m\n\u001b[0;32m   1517\u001b[0m \u001b[38;5;28;01mif\u001b[39;00m \u001b[38;5;129;01mnot\u001b[39;00m (\u001b[38;5;28mself\u001b[39m\u001b[38;5;241m.\u001b[39m_backward_hooks \u001b[38;5;129;01mor\u001b[39;00m \u001b[38;5;28mself\u001b[39m\u001b[38;5;241m.\u001b[39m_backward_pre_hooks \u001b[38;5;129;01mor\u001b[39;00m \u001b[38;5;28mself\u001b[39m\u001b[38;5;241m.\u001b[39m_forward_hooks \u001b[38;5;129;01mor\u001b[39;00m \u001b[38;5;28mself\u001b[39m\u001b[38;5;241m.\u001b[39m_forward_pre_hooks\n\u001b[0;32m   1518\u001b[0m         \u001b[38;5;129;01mor\u001b[39;00m _global_backward_pre_hooks \u001b[38;5;129;01mor\u001b[39;00m _global_backward_hooks\n\u001b[0;32m   1519\u001b[0m         \u001b[38;5;129;01mor\u001b[39;00m _global_forward_hooks \u001b[38;5;129;01mor\u001b[39;00m _global_forward_pre_hooks):\n\u001b[1;32m-> 1520\u001b[0m     \u001b[38;5;28;01mreturn\u001b[39;00m forward_call(\u001b[38;5;241m*\u001b[39margs, \u001b[38;5;241m*\u001b[39m\u001b[38;5;241m*\u001b[39mkwargs)\n\u001b[0;32m   1522\u001b[0m \u001b[38;5;28;01mtry\u001b[39;00m:\n\u001b[0;32m   1523\u001b[0m     result \u001b[38;5;241m=\u001b[39m \u001b[38;5;28;01mNone\u001b[39;00m\n",
      "File \u001b[1;32mc:\\Users\\TARDIS\\Desktop\\ResearchProjects\\CAMP\\notebook\\..\\model\\net.py:205\u001b[0m, in \u001b[0;36mResNet.forward\u001b[1;34m(self, x)\u001b[0m\n\u001b[0;32m    203\u001b[0m out \u001b[38;5;241m=\u001b[39m F\u001b[38;5;241m.\u001b[39mrelu(\u001b[38;5;28mself\u001b[39m\u001b[38;5;241m.\u001b[39mbn1(\u001b[38;5;28mself\u001b[39m\u001b[38;5;241m.\u001b[39mconv1(x)))\n\u001b[0;32m    204\u001b[0m out \u001b[38;5;241m=\u001b[39m \u001b[38;5;28mself\u001b[39m\u001b[38;5;241m.\u001b[39mlayer1(out)\n\u001b[1;32m--> 205\u001b[0m out \u001b[38;5;241m=\u001b[39m \u001b[38;5;28mself\u001b[39m\u001b[38;5;241m.\u001b[39mlayer2(out)\n\u001b[0;32m    206\u001b[0m out \u001b[38;5;241m=\u001b[39m \u001b[38;5;28mself\u001b[39m\u001b[38;5;241m.\u001b[39mlayer3(out)\n\u001b[0;32m    207\u001b[0m out \u001b[38;5;241m=\u001b[39m \u001b[38;5;28mself\u001b[39m\u001b[38;5;241m.\u001b[39mlayer4(out)\n",
      "File \u001b[1;32mc:\\Users\\TARDIS\\anaconda3\\Lib\\site-packages\\torch\\nn\\modules\\module.py:1511\u001b[0m, in \u001b[0;36mModule._wrapped_call_impl\u001b[1;34m(self, *args, **kwargs)\u001b[0m\n\u001b[0;32m   1509\u001b[0m     \u001b[38;5;28;01mreturn\u001b[39;00m \u001b[38;5;28mself\u001b[39m\u001b[38;5;241m.\u001b[39m_compiled_call_impl(\u001b[38;5;241m*\u001b[39margs, \u001b[38;5;241m*\u001b[39m\u001b[38;5;241m*\u001b[39mkwargs)  \u001b[38;5;66;03m# type: ignore[misc]\u001b[39;00m\n\u001b[0;32m   1510\u001b[0m \u001b[38;5;28;01melse\u001b[39;00m:\n\u001b[1;32m-> 1511\u001b[0m     \u001b[38;5;28;01mreturn\u001b[39;00m \u001b[38;5;28mself\u001b[39m\u001b[38;5;241m.\u001b[39m_call_impl(\u001b[38;5;241m*\u001b[39margs, \u001b[38;5;241m*\u001b[39m\u001b[38;5;241m*\u001b[39mkwargs)\n",
      "File \u001b[1;32mc:\\Users\\TARDIS\\anaconda3\\Lib\\site-packages\\torch\\nn\\modules\\module.py:1520\u001b[0m, in \u001b[0;36mModule._call_impl\u001b[1;34m(self, *args, **kwargs)\u001b[0m\n\u001b[0;32m   1515\u001b[0m \u001b[38;5;66;03m# If we don't have any hooks, we want to skip the rest of the logic in\u001b[39;00m\n\u001b[0;32m   1516\u001b[0m \u001b[38;5;66;03m# this function, and just call forward.\u001b[39;00m\n\u001b[0;32m   1517\u001b[0m \u001b[38;5;28;01mif\u001b[39;00m \u001b[38;5;129;01mnot\u001b[39;00m (\u001b[38;5;28mself\u001b[39m\u001b[38;5;241m.\u001b[39m_backward_hooks \u001b[38;5;129;01mor\u001b[39;00m \u001b[38;5;28mself\u001b[39m\u001b[38;5;241m.\u001b[39m_backward_pre_hooks \u001b[38;5;129;01mor\u001b[39;00m \u001b[38;5;28mself\u001b[39m\u001b[38;5;241m.\u001b[39m_forward_hooks \u001b[38;5;129;01mor\u001b[39;00m \u001b[38;5;28mself\u001b[39m\u001b[38;5;241m.\u001b[39m_forward_pre_hooks\n\u001b[0;32m   1518\u001b[0m         \u001b[38;5;129;01mor\u001b[39;00m _global_backward_pre_hooks \u001b[38;5;129;01mor\u001b[39;00m _global_backward_hooks\n\u001b[0;32m   1519\u001b[0m         \u001b[38;5;129;01mor\u001b[39;00m _global_forward_hooks \u001b[38;5;129;01mor\u001b[39;00m _global_forward_pre_hooks):\n\u001b[1;32m-> 1520\u001b[0m     \u001b[38;5;28;01mreturn\u001b[39;00m forward_call(\u001b[38;5;241m*\u001b[39margs, \u001b[38;5;241m*\u001b[39m\u001b[38;5;241m*\u001b[39mkwargs)\n\u001b[0;32m   1522\u001b[0m \u001b[38;5;28;01mtry\u001b[39;00m:\n\u001b[0;32m   1523\u001b[0m     result \u001b[38;5;241m=\u001b[39m \u001b[38;5;28;01mNone\u001b[39;00m\n",
      "File \u001b[1;32mc:\\Users\\TARDIS\\anaconda3\\Lib\\site-packages\\torch\\nn\\modules\\container.py:217\u001b[0m, in \u001b[0;36mSequential.forward\u001b[1;34m(self, input)\u001b[0m\n\u001b[0;32m    215\u001b[0m \u001b[38;5;28;01mdef\u001b[39;00m \u001b[38;5;21mforward\u001b[39m(\u001b[38;5;28mself\u001b[39m, \u001b[38;5;28minput\u001b[39m):\n\u001b[0;32m    216\u001b[0m     \u001b[38;5;28;01mfor\u001b[39;00m module \u001b[38;5;129;01min\u001b[39;00m \u001b[38;5;28mself\u001b[39m:\n\u001b[1;32m--> 217\u001b[0m         \u001b[38;5;28minput\u001b[39m \u001b[38;5;241m=\u001b[39m module(\u001b[38;5;28minput\u001b[39m)\n\u001b[0;32m    218\u001b[0m     \u001b[38;5;28;01mreturn\u001b[39;00m \u001b[38;5;28minput\u001b[39m\n",
      "File \u001b[1;32mc:\\Users\\TARDIS\\anaconda3\\Lib\\site-packages\\torch\\nn\\modules\\module.py:1511\u001b[0m, in \u001b[0;36mModule._wrapped_call_impl\u001b[1;34m(self, *args, **kwargs)\u001b[0m\n\u001b[0;32m   1509\u001b[0m     \u001b[38;5;28;01mreturn\u001b[39;00m \u001b[38;5;28mself\u001b[39m\u001b[38;5;241m.\u001b[39m_compiled_call_impl(\u001b[38;5;241m*\u001b[39margs, \u001b[38;5;241m*\u001b[39m\u001b[38;5;241m*\u001b[39mkwargs)  \u001b[38;5;66;03m# type: ignore[misc]\u001b[39;00m\n\u001b[0;32m   1510\u001b[0m \u001b[38;5;28;01melse\u001b[39;00m:\n\u001b[1;32m-> 1511\u001b[0m     \u001b[38;5;28;01mreturn\u001b[39;00m \u001b[38;5;28mself\u001b[39m\u001b[38;5;241m.\u001b[39m_call_impl(\u001b[38;5;241m*\u001b[39margs, \u001b[38;5;241m*\u001b[39m\u001b[38;5;241m*\u001b[39mkwargs)\n",
      "File \u001b[1;32mc:\\Users\\TARDIS\\anaconda3\\Lib\\site-packages\\torch\\nn\\modules\\module.py:1520\u001b[0m, in \u001b[0;36mModule._call_impl\u001b[1;34m(self, *args, **kwargs)\u001b[0m\n\u001b[0;32m   1515\u001b[0m \u001b[38;5;66;03m# If we don't have any hooks, we want to skip the rest of the logic in\u001b[39;00m\n\u001b[0;32m   1516\u001b[0m \u001b[38;5;66;03m# this function, and just call forward.\u001b[39;00m\n\u001b[0;32m   1517\u001b[0m \u001b[38;5;28;01mif\u001b[39;00m \u001b[38;5;129;01mnot\u001b[39;00m (\u001b[38;5;28mself\u001b[39m\u001b[38;5;241m.\u001b[39m_backward_hooks \u001b[38;5;129;01mor\u001b[39;00m \u001b[38;5;28mself\u001b[39m\u001b[38;5;241m.\u001b[39m_backward_pre_hooks \u001b[38;5;129;01mor\u001b[39;00m \u001b[38;5;28mself\u001b[39m\u001b[38;5;241m.\u001b[39m_forward_hooks \u001b[38;5;129;01mor\u001b[39;00m \u001b[38;5;28mself\u001b[39m\u001b[38;5;241m.\u001b[39m_forward_pre_hooks\n\u001b[0;32m   1518\u001b[0m         \u001b[38;5;129;01mor\u001b[39;00m _global_backward_pre_hooks \u001b[38;5;129;01mor\u001b[39;00m _global_backward_hooks\n\u001b[0;32m   1519\u001b[0m         \u001b[38;5;129;01mor\u001b[39;00m _global_forward_hooks \u001b[38;5;129;01mor\u001b[39;00m _global_forward_pre_hooks):\n\u001b[1;32m-> 1520\u001b[0m     \u001b[38;5;28;01mreturn\u001b[39;00m forward_call(\u001b[38;5;241m*\u001b[39margs, \u001b[38;5;241m*\u001b[39m\u001b[38;5;241m*\u001b[39mkwargs)\n\u001b[0;32m   1522\u001b[0m \u001b[38;5;28;01mtry\u001b[39;00m:\n\u001b[0;32m   1523\u001b[0m     result \u001b[38;5;241m=\u001b[39m \u001b[38;5;28;01mNone\u001b[39;00m\n",
      "File \u001b[1;32mc:\\Users\\TARDIS\\Desktop\\ResearchProjects\\CAMP\\notebook\\..\\model\\net.py:141\u001b[0m, in \u001b[0;36mBasicBlock.forward\u001b[1;34m(self, x)\u001b[0m\n\u001b[0;32m    140\u001b[0m \u001b[38;5;28;01mdef\u001b[39;00m \u001b[38;5;21mforward\u001b[39m(\u001b[38;5;28mself\u001b[39m, x):\n\u001b[1;32m--> 141\u001b[0m     out \u001b[38;5;241m=\u001b[39m F\u001b[38;5;241m.\u001b[39mrelu(\u001b[38;5;28mself\u001b[39m\u001b[38;5;241m.\u001b[39mbn1(\u001b[38;5;28mself\u001b[39m\u001b[38;5;241m.\u001b[39mconv1(x)))\n\u001b[0;32m    142\u001b[0m     out \u001b[38;5;241m=\u001b[39m \u001b[38;5;28mself\u001b[39m\u001b[38;5;241m.\u001b[39mbn2(\u001b[38;5;28mself\u001b[39m\u001b[38;5;241m.\u001b[39mconv2(out))\n\u001b[0;32m    143\u001b[0m     out \u001b[38;5;241m+\u001b[39m\u001b[38;5;241m=\u001b[39m \u001b[38;5;28mself\u001b[39m\u001b[38;5;241m.\u001b[39mshortcut(x)\n",
      "File \u001b[1;32mc:\\Users\\TARDIS\\anaconda3\\Lib\\site-packages\\torch\\nn\\functional.py:1473\u001b[0m, in \u001b[0;36mrelu\u001b[1;34m(input, inplace)\u001b[0m\n\u001b[0;32m   1471\u001b[0m     result \u001b[38;5;241m=\u001b[39m torch\u001b[38;5;241m.\u001b[39mrelu_(\u001b[38;5;28minput\u001b[39m)\n\u001b[0;32m   1472\u001b[0m \u001b[38;5;28;01melse\u001b[39;00m:\n\u001b[1;32m-> 1473\u001b[0m     result \u001b[38;5;241m=\u001b[39m torch\u001b[38;5;241m.\u001b[39mrelu(\u001b[38;5;28minput\u001b[39m)\n\u001b[0;32m   1474\u001b[0m \u001b[38;5;28;01mreturn\u001b[39;00m result\n",
      "\u001b[1;31mOutOfMemoryError\u001b[0m: CUDA out of memory. Tried to allocate 626.00 MiB. GPU 0 has a total capacity of 11.99 GiB of which 0 bytes is free. Of the allocated memory 16.67 GiB is allocated by PyTorch, and 33.63 MiB is reserved by PyTorch but unallocated. If reserved but unallocated memory is large try setting PYTORCH_CUDA_ALLOC_CONF=expandable_segments:True to avoid fragmentation.  See documentation for Memory Management  (https://pytorch.org/docs/stable/notes/cuda.html#environment-variables)"
     ]
    }
   ],
   "source": [
    "train_losses = []\n",
    "test_losses = []\n",
    "test_accs = []\n",
    "# trace_hessians = []\n",
    "\n",
    "for epoch in range(1, 2):\n",
    "    print('Epoch:', epoch)\n",
    "    train_log = train(curr_net, trainloader, curr_optimizer, args, noise_injector=None)\n",
    "    # train_log = train(curr_net, trainloader, curr_optimizer, args, noise_injector=noise_injector)\n",
    "    test_log = test(curr_net, testloader, args)\n",
    "\n",
    "    test_log['epoch'] = [epoch]\n",
    "    print(test_log)\n",
    "    \n",
    "    # trace_hessian = cal_hessian_trace(curr_net, trainloader, device=args.device, num_samples=10)\n",
    "    print('Train Loss:', np.mean(train_log['loss']))\n",
    "    print('Test Loss:', test_log['loss'][0], 'Test Acc:', test_log['acc'][0])\n",
    "    # print('Trace Hessian:', trace_hessian)\n",
    "    \n",
    "    train_losses += train_log['loss']\n",
    "    test_losses += test_log['loss']\n",
    "    test_accs += test_log['acc']\n",
    "    # trace_hessians.append(trace_hessian)\n",
    "    "
   ]
  },
  {
   "cell_type": "code",
   "execution_count": 16,
   "id": "b451ed13",
   "metadata": {},
   "outputs": [
    {
     "data": {
      "text/plain": [
       "[<matplotlib.lines.Line2D at 0x21519cd6b90>]"
      ]
     },
     "execution_count": 16,
     "metadata": {},
     "output_type": "execute_result"
    },
    {
     "data": {
      "image/png": "[encoded data removed]",
      "text/plain": [
       "<Figure size 1200x400 with 2 Axes>"
      ]
     },
     "metadata": {},
     "output_type": "display_data"
    }
   ],
   "source": [
    "fig, axs = plt.subplots(1, 2, figsize=(12, 4))\n",
    "\n",
    "x_axis = np.arange(len(train_losses))\n",
    "\n",
    "axs[0].plot(x_axis, train_losses, label='Train Loss')\n",
    "axs[0].plot(x_axis[::4], test_losses, label='Test Loss')\n",
    "\n",
    "axs[0].plot(x_axis, train_losses2, label='Train Loss2')\n",
    "axs[0].plot(x_axis[::4], test_losses2, label='Test Loss2')\n",
    "\n",
    "axs[0].legend()\n",
    "\n",
    "axs[1].plot(x_axis[::4], test_accs, label='Test Accuracy')\n",
    "axs[1].plot(x_axis[::4], test_accs2, label='Test Accuracy2')"
   ]
  },
  {
   "cell_type": "code",
   "execution_count": 14,
   "id": "b0ea623b",
   "metadata": {},
   "outputs": [
    {
     "name": "stdout",
     "output_type": "stream",
     "text": [
      "Epoch: 1\n",
      "Train Loss: 2.3247995\n",
      "Test Loss: 2.304812451171875 Test Acc: 10.0\n",
      "Epoch: 2\n",
      "Train Loss: 2.2212644\n",
      "Test Loss: 2.30968701171875 Test Acc: 8.11\n",
      "Epoch: 3\n",
      "Train Loss: 2.157054\n",
      "Test Loss: 2.3199966796875 Test Acc: 10.0\n",
      "Epoch: 4\n",
      "Train Loss: 2.0599687\n",
      "Test Loss: 2.345136572265625 Test Acc: 10.0\n",
      "Epoch: 5\n",
      "Train Loss: 1.9898684\n",
      "Test Loss: 2.382795703125 Test Acc: 10.0\n",
      "Epoch: 6\n",
      "Train Loss: 1.9137915\n",
      "Test Loss: 2.428948681640625 Test Acc: 10.08\n",
      "Epoch: 7\n",
      "Train Loss: 1.8652221\n",
      "Test Loss: 2.391296826171875 Test Acc: 10.61\n",
      "Epoch: 8\n",
      "Train Loss: 1.802671\n",
      "Test Loss: 2.272026953125 Test Acc: 12.46\n",
      "Epoch: 9\n",
      "Train Loss: 1.7686284\n",
      "Test Loss: 2.1453044921875 Test Acc: 17.17\n",
      "Epoch: 10\n",
      "Train Loss: 1.6934721\n",
      "Test Loss: 2.053377099609375 Test Acc: 22.31\n",
      "Epoch: 11\n",
      "Train Loss: 1.6708964\n",
      "Test Loss: 1.9398286865234375 Test Acc: 26.949999\n",
      "Epoch: 12\n",
      "Train Loss: 1.6598878\n",
      "Test Loss: 1.8308361083984375 Test Acc: 30.519999\n",
      "Epoch: 13\n",
      "Train Loss: 1.6005541\n",
      "Test Loss: 1.8696050537109374 Test Acc: 30.759998\n",
      "Epoch: 14\n",
      "Train Loss: 1.5820792\n",
      "Test Loss: 1.7767070556640625 Test Acc: 34.34\n",
      "Epoch: 15\n",
      "Train Loss: 1.5308709\n",
      "Test Loss: 1.7940441162109375 Test Acc: 32.969997\n",
      "Epoch: 16\n",
      "Train Loss: 1.5503743\n",
      "Test Loss: 1.826356005859375 Test Acc: 32.2\n",
      "Epoch: 17\n",
      "Train Loss: 1.5109994\n",
      "Test Loss: 1.7716623779296874 Test Acc: 34.36\n",
      "Epoch: 18\n",
      "Train Loss: 1.4638202\n",
      "Test Loss: 1.7916373779296875 Test Acc: 34.18\n",
      "Epoch: 19\n",
      "Train Loss: 1.4195663\n",
      "Test Loss: 1.7397076904296875 Test Acc: 36.25\n",
      "Epoch: 20\n",
      "Train Loss: 1.3875549\n",
      "Test Loss: 1.8176935791015625 Test Acc: 33.6\n"
     ]
    }
   ],
   "source": [
    "train_losses2 = []\n",
    "test_losses2 = []\n",
    "test_accs2 = []\n",
    "# trace_hessians = []\n",
    "\n",
    "for epoch in range(1, 21):\n",
    "    print('Epoch:', epoch)\n",
    "    # train_log = train(curr_net, trainloader, curr_optimizer, args, noise_injector=None)\n",
    "    train_log = train(curr_net, trainloader, curr_optimizer, args, noise_injector=noise_injector)\n",
    "    test_log = test(curr_net, testloader, args)\n",
    "    \n",
    "    # trace_hessian = cal_hessian_trace(curr_net, trainloader, device=args.device, num_samples=10)\n",
    "    print('Train Loss:', np.mean(train_log['loss']))\n",
    "    print('Test Loss:', test_log['loss'][0], 'Test Acc:', test_log['acc'][0])\n",
    "    # print('Trace Hessian:', trace_hessian)\n",
    "    \n",
    "    train_losses2 += train_log['loss']\n",
    "    test_losses2 += test_log['loss']\n",
    "    test_accs2 += test_log['acc']\n",
    "    # trace_hessians.append(trace_hessian)\n",
    "    "
   ]
  },
  {
   "cell_type": "code",
   "execution_count": null,
   "id": "01f2176c",
   "metadata": {},
   "outputs": [],
   "source": [
    "class NoiseInjector_test:\n",
    "    def __init__(self, model, args):\n",
    "        self.device = args.device\n",
    "        self.eps = args.perturb_eps\n",
    "        self.noise_type = args.noise_type\n",
    "        self.lr = args.lr\n",
    "        \n",
    "        self.std = self.eps * np.sqrt(self.lr) # Standard deviation for Gaussian noise\n",
    "        \n",
    "        self.total_size = 2\n",
    "\n",
    "        if args.noise_type == 'anti':\n",
    "            self.tau = args.perturb_tau\n",
    "            self.anti_std = (self.eps/self.tau) * np.sqrt(self.lr)\n",
    "\n",
    "            self.stationary_var = (self.eps ** 2 / self.tau) / (2 - self.lr / self.tau)\n",
    "            self.anti_noise = torch.randn(self.total_size, device=self.device) * np.sqrt(self.stationary_var)\n",
    "            self.anti_noise = self.anti_noise.to(self.device)\n",
    "\n",
    "    def _update_anti_noise(self):\n",
    "        with torch.no_grad():\n",
    "            return (1 - (self.lr/self.tau)) * self.anti_noise + torch.randn(self.anti_noise.size()).to(self.device) * self.anti_std\n",
    "\n",
    "    def generate_noise(self):\n",
    "        if self.noise_type == 'random':\n",
    "            return torch.randn(self.total_size, device=self.device) * self.std\n",
    "        elif self.noise_type == 'anti':\n",
    "            next_anti_noise = self._update_anti_noise()\n",
    "            # inj_noise = self.tau * (next_anti_noise - self.anti_noise) + torch.randn(self.total_size, device=self.device) * self.std\n",
    "            inj_noise = self.tau * (next_anti_noise - self.anti_noise)\n",
    "            self.anti_noise = next_anti_noise\n",
    "            return inj_noise\n",
    "\n",
    "    def apply_noise(self, model):\n",
    "        inj_noise = self.generate_noise()\n",
    "\n",
    "        offset = 0\n",
    "        with torch.no_grad():\n",
    "            for p in model.parameters():\n",
    "                if p.requires_grad:\n",
    "                    num = p.numel()\n",
    "                    p.add_(inj_noise[offset:offset+num].view_as(p))\n",
    "                    offset += num"
   ]
  },
  {
   "cell_type": "code",
   "execution_count": 214,
   "id": "e2e0b3d6",
   "metadata": {},
   "outputs": [],
   "source": [
    "args.lr = 0.5\n",
    "args.perturb_eps = 1\n",
    "args.perturb_tau = args.lr\n",
    "args.noise_type = 'anti' # 'random', 'anti'\n",
    "\n",
    "tmp = NoiseInjector_test(curr_net, args)\n",
    "\n",
    "noises = np.array([tmp.generate_noise().detach().cpu().numpy() for i in range(10000)])"
   ]
  },
  {
   "cell_type": "code",
   "execution_count": 215,
   "id": "92d3acd5",
   "metadata": {},
   "outputs": [],
   "source": [
    "def autocorrelation(x, max_lag=None, normalize=True):\n",
    "    n = len(x)\n",
    "    x = x - np.mean(x)\n",
    "    max_lag = n - 1 if max_lag is None else max_lag\n",
    "    acf = np.array([\n",
    "        np.correlate(x[:n - tau], x[tau:])[0] / (n - tau) for tau in range(max_lag + 1)\n",
    "    ])\n",
    "    if normalize:\n",
    "        acf = acf  # Normalize by variance\n",
    "    return acf\n",
    "\n",
    "max_tau = 50\n",
    "acf_vals = autocorrelation(noises[:, 0], max_lag=max_tau)"
   ]
  },
  {
   "cell_type": "code",
   "execution_count": 216,
   "id": "d60a581f",
   "metadata": {},
   "outputs": [
    {
     "data": {
      "text/plain": [
       "[<matplotlib.lines.Line2D at 0x215f1b8b590>]"
      ]
     },
     "execution_count": 216,
     "metadata": {},
     "output_type": "execute_result"
    },
    {
     "data": {
      "image/png": "[encoded data removed]",
      "text/plain": [
       "<Figure size 640x480 with 1 Axes>"
      ]
     },
     "metadata": {},
     "output_type": "display_data"
    }
   ],
   "source": [
    "temp = 2 * args.perturb_eps**2 * args.lr\n",
    "\n",
    "plt.plot(acf_vals)\n",
    "plt.plot(np.arange(max_tau+1), [temp, -temp/2] + [0 for _ in range(max_tau-1)])\n"
   ]
  },
  {
   "cell_type": "code",
   "execution_count": 181,
   "id": "6cc00711",
   "metadata": {},
   "outputs": [],
   "source": [
    "def autocorrelation(x, max_lag=None, normalize=True):\n",
    "    n = len(x)\n",
    "    x = x - np.mean(x)\n",
    "    max_lag = n - 1 if max_lag is None else max_lag\n",
    "    acf = np.array([\n",
    "        np.mean(x[:n - tau] * x[tau:]) for tau in range(max_lag + 1)\n",
    "    ])\n",
    "    if normalize:\n",
    "        acf = acf / acf[0]  # Normalize by variance\n",
    "    return acf\n",
    "\n",
    "max_tau = 10\n",
    "acf_vals = autocorrelation(noises[:, 0], max_lag=max_tau)"
   ]
  },
  {
   "cell_type": "code",
   "execution_count": 182,
   "id": "86e78d05",
   "metadata": {},
   "outputs": [
    {
     "data": {
      "text/plain": [
       "[<matplotlib.lines.Line2D at 0x215f35d0d10>]"
      ]
     },
     "execution_count": 182,
     "metadata": {},
     "output_type": "execute_result"
    },
    {
     "data": {
      "image/png": "[encoded data removed]",
      "text/plain": [
       "<Figure size 640x480 with 1 Axes>"
      ]
     },
     "metadata": {},
     "output_type": "display_data"
    }
   ],
   "source": [
    "temp = (args.lr/args.tau) * (2-(args.lr/args.tau))\n",
    "\n",
    "plt.plot(acf_vals)\n",
    "# plt.plot(np.arange(0, max_tau+1), [1] + [-((args.lr/args.tau)**2) * (1-args.lr/args.perturb_tau)**(i) for i in range(1, max_tau+1)])\n"
   ]
  },
  {
   "cell_type": "code",
   "execution_count": 206,
   "id": "de060258",
   "metadata": {},
   "outputs": [
    {
     "data": {
      "image/png": "[encoded data removed]",
      "text/plain": [
       "<Figure size 640x480 with 1 Axes>"
      ]
     },
     "metadata": {},
     "output_type": "display_data"
    }
   ],
   "source": [
    "for t in range(1, 5):\n",
    "    plt.plot(np.arange(1, max_tau+1), [-((args.lr/t)**2) * (1-args.lr/t)**(i) for i in range(1, max_tau+1)])\n"
   ]
  },
  {
   "cell_type": "code",
   "execution_count": null,
   "id": "8531ac22",
   "metadata": {},
   "outputs": [],
   "source": []
  },
  {
   "cell_type": "code",
   "execution_count": null,
   "id": "c096dc61",
   "metadata": {},
   "outputs": [
    {
     "data": {
      "text/plain": [
       "<matplotlib.legend.Legend at 0x211d6a1d850>"
      ]
     },
     "execution_count": 99,
     "metadata": {},
     "output_type": "execute_result"
    },
    {
     "data": {
      "image/png": "[encoded data removed]",
      "text/plain": [
       "<Figure size 1200x400 with 2 Axes>"
      ]
     },
     "metadata": {},
     "output_type": "display_data"
    }
   ],
   "source": [
    "fig, axs = plt.subplots(1, 2, figsize=(12, 4))\n",
    "\n",
    "axs[0].plot(train_losses, label='Train Loss')\n",
    "axs[0].plot(test_losses, label='Test Loss')\n",
    "\n",
    "axs[0].legend()"
   ]
  },
  {
   "cell_type": "code",
   "execution_count": null,
   "id": "aec53afa",
   "metadata": {},
   "outputs": [],
   "source": [
    "def compute_2_norm(model):\n",
    "    norm = 0.0\n",
    "    for param in model.parameters():\n",
    "        norm += torch.norm(param, p=2).item() ** 2\n",
    "    return norm ** 0.5\n",
    "\n",
    "perturb_model = partial(perturb_model_, eps=args.perturb_eps, device=args.device)\n",
    "\n",
    "network_2_norm = compute_2_norm(curr_net)\n",
    "print(\"2-Norm of the network:\", network_2_norm)\n",
    "curr_net.apply(perturb_model)\n",
    "perturb_2_norm = compute_2_norm(curr_net)\n",
    "print(\"2-Norm of the perturbed network:\", perturb_2_norm)\n"
   ]
  },
  {
   "cell_type": "code",
   "execution_count": 28,
   "id": "a3d4dcd2",
   "metadata": {},
   "outputs": [
    {
     "name": "stdout",
     "output_type": "stream",
     "text": [
      "torch train loader loaded.\n",
      "torch valid loader loaded.\n",
      "torch test loader loaded.\n"
     ]
    }
   ],
   "source": [
    "from torch.utils.data import RandomSampler\n",
    "\n",
    "args.batch_size = 128\n",
    "args.test_batch_size = 1024\n",
    "args.num_workers = 4\n",
    "\n",
    "sampler = RandomSampler(train_dataset, replacement=True, num_samples=len(train_dataset))\n",
    "\n",
    "trainloader = torch.utils.data.DataLoader(train_dataset, batch_size=args.batch_size, sampler=sampler, num_workers=args.num_workers, pin_memory=True)\n",
    "print('torch train loader loaded.')\n",
    "validloader = torch.utils.data.DataLoader(valid_dataset, batch_size=args.test_batch_size, shuffle=False, num_workers=args.num_workers, pin_memory=True)\n",
    "print('torch valid loader loaded.')\n",
    "testloader = torch.utils.data.DataLoader(test_dataset, batch_size=args.test_batch_size, shuffle=False, num_workers=args.num_workers, pin_memory=True)\n",
    "print('torch test loader loaded.')"
   ]
  },
  {
   "cell_type": "code",
   "execution_count": 29,
   "id": "8fde50e0",
   "metadata": {},
   "outputs": [
    {
     "name": "stderr",
     "output_type": "stream",
     "text": [
      "100%|██████████| 4/4 [00:10<00:00,  2.52s/it]\n",
      "100%|██████████| 4/4 [00:10<00:00,  2.52s/it]\n",
      "100%|██████████| 4/4 [00:10<00:00,  2.51s/it]\n",
      "100%|██████████| 4/4 [00:09<00:00,  2.50s/it]\n"
     ]
    }
   ],
   "source": [
    "for epoch in range(1, 5):\n",
    "    for data, target, _, _, _ in tqdm(trainloader):\n",
    "        data, target = data.to(args.device), target.to(args.device).long()\n",
    "        curr_optimizer.zero_grad()\n",
    "        output = curr_net(data)\n",
    "        loss = F.cross_entropy(output, target)"
   ]
  },
  {
   "cell_type": "code",
   "execution_count": 32,
   "id": "a082ff81",
   "metadata": {},
   "outputs": [
    {
     "name": "stderr",
     "output_type": "stream",
     "text": [
      "100%|██████████| 20/20 [03:11<00:00,  9.57s/it]\n"
     ]
    }
   ],
   "source": [
    "for idx in tqdm(range(20)):\n",
    "    train_1(curr_net, trainloader, curr_optimizer, args)"
   ]
  },
  {
   "cell_type": "code",
   "execution_count": null,
   "id": "2592938d",
   "metadata": {},
   "outputs": [
    {
     "ename": "TypeError",
     "evalue": "'int' object is not callable",
     "output_type": "error",
     "traceback": [
      "\u001b[1;31m---------------------------------------------------------------------------\u001b[0m",
      "\u001b[1;31mTypeError\u001b[0m                                 Traceback (most recent call last)",
      "Cell \u001b[1;32mIn[30], line 1\u001b[0m\n\u001b[1;32m----> 1\u001b[0m \u001b[38;5;28miter\u001b[39m(trainloader)\n",
      "\u001b[1;31mTypeError\u001b[0m: 'int' object is not callable"
     ]
    }
   ],
   "source": [
    "iter(trainloader)"
   ]
  },
  {
   "cell_type": "code",
   "execution_count": 34,
   "id": "ddbab863",
   "metadata": {},
   "outputs": [
    {
     "name": "stdout",
     "output_type": "stream",
     "text": [
      "Batch Data: tensor([33, 14,  8, 20, 39, 48, 13, 13, 17, 11])\n",
      "Batch Data: tensor([23, 34, 37, 14, 13,  6, 41, 10, 40, 11])\n",
      "Batch Data: tensor([ 7,  4,  2, 35, 30, 33, 39,  5, 35,  8])\n",
      "Batch Data: tensor([29, 23, 28, 40, 14, 37,  9, 23, 10,  8])\n",
      "Batch Data: tensor([32, 21, 32, 16, 22, 23, 42,  4,  5, 31])\n",
      "Sampled Indices: [33, 14, 8, 20, 39, 48, 13, 13, 17, 11, 23, 34, 37, 14, 13, 6, 41, 10, 40, 11, 7, 4, 2, 35, 30, 33, 39, 5, 35, 8, 29, 23, 28, 40, 14, 37, 9, 23, 10, 8, 32, 21, 32, 16, 22, 23, 42, 4, 5, 31]\n",
      "Duplicates exist? True\n"
     ]
    }
   ],
   "source": [
    "import torch\n",
    "from torch.utils.data import DataLoader, RandomSampler, TensorDataset\n",
    "\n",
    "# Make a simple dummy dataset: 10 samples\n",
    "data = torch.arange(50)  # [0, 1, 2, ..., 9]\n",
    "labels = torch.arange(50)  # Just for formality\n",
    "\n",
    "dataset = TensorDataset(data, labels)\n",
    "\n",
    "# Create a RandomSampler with replacement\n",
    "sampler = RandomSampler(dataset, replacement=True, num_samples=50)\n",
    "\n",
    "# DataLoader using the sampler\n",
    "loader = DataLoader(dataset, batch_size=10, sampler=sampler)\n",
    "\n",
    "# Collect all sampled indices\n",
    "sampled_indices = []\n",
    "\n",
    "for batch_data, batch_labels in loader:\n",
    "    print(\"Batch Data:\", batch_data)\n",
    "    sampled_indices.extend(batch_labels.tolist())  # Collect the label/index\n",
    "\n",
    "print(\"Sampled Indices:\", sampled_indices)\n",
    "\n",
    "# Check if duplicates exist\n",
    "duplicates_exist = len(sampled_indices) != len(set(sampled_indices))\n",
    "\n",
    "print(\"Duplicates exist?\", duplicates_exist)"
   ]
  },
  {
   "cell_type": "code",
   "execution_count": null,
   "id": "75ffac74",
   "metadata": {},
   "outputs": [],
   "source": [
    "# def hessian_trace_loss(loss, model, num_samples=1):\n",
    "#     params = [p for p in model.parameters() if p.requires_grad]\n",
    "#     flat_params = torch.cat([p.view(-1) for p in params])\n",
    "\n",
    "#     # Compute first-order gradients\n",
    "#     grads = torch.autograd.grad(loss, params, create_graph=True)\n",
    "#     flat_grads = torch.cat([g.view(-1) for g in grads])\n",
    "\n",
    "#     trace_estimate = 0.0\n",
    "#     for _ in range(num_samples):\n",
    "#         # v ~ Rademacher distribution: ±1\n",
    "#         v = torch.randint_like(flat_params, low=0, high=2) * 2 - 1\n",
    "#         Hv = hessian_vector_product(flat_grads, params, v)\n",
    "#         trace_estimate += torch.dot(v, Hv).item()\n",
    "\n",
    "#     return trace_estimate / num_samples\n",
    "\n",
    "def hessian_vector_product(flat_grads, params, v):\n",
    "    # Compute dot(grad, v)\n",
    "    grad_v = torch.dot(flat_grads, v)\n",
    "    second_grads = torch.autograd.grad(grad_v, params, retain_graph=True)\n",
    "    return torch.cat([g.contiguous().view(-1) for g in second_grads])\n",
    "\n",
    "\n",
    "def cal_hessian_trace(model, data_loader, device='cuda', num_samples=10):\n",
    "    \"\"\"\n",
    "    Estimate the trace of the Hessian matrix using Hutchinson's method.\n",
    "    \n",
    "    Args:\n",
    "        model: The neural network model.\n",
    "        data_loader: DataLoader for the dataset.\n",
    "        device: Device to perform computations ('cuda' or 'cpu').\n",
    "        num_samples: Number of samples for Hutchinson's method.\n",
    "    \n",
    "    Returns:\n",
    "        Estimated trace of the Hessian matrix.\n",
    "    \"\"\"\n",
    "    model.eval()\n",
    "    criterion = nn.CrossEntropyLoss(reduction='none')\n",
    "\n",
    "    total_loss = 0.0\n",
    "    for i, data in enumerate(data_loader):\n",
    "        inputs, labels = data[0].to(args.device), data[1].to(args.device).long()\n",
    "\n",
    "        outputs = model(inputs)\n",
    "        loss = criterion(outputs, labels)\n",
    "        total_loss += loss.sum()\n",
    "\n",
    "    # Compute the total loss over the entire dataset\n",
    "    print(\"Total loss:\", total_loss)\n",
    "    total_loss = total_loss / len(data_loader.dataset)\n",
    "    \n",
    "    params = [p for p in model.parameters() if p.requires_grad]\n",
    "    flat_params = torch.cat([p.view(-1) for p in params])\n",
    "\n",
    "    # Compute first-order gradients\n",
    "    grads = torch.autograd.grad(total_loss, params, create_graph=True)\n",
    "    flat_grads = torch.cat([g.view(-1) for g in grads])\n",
    "\n",
    "    trace_estimate = 0.0\n",
    "    for _ in range(num_samples):\n",
    "        # v ~ Rademacher distribution: ±1\n",
    "        v = torch.randint_like(flat_params, low=0, high=2) * 2 - 1\n",
    "        Hv = hessian_vector_product(flat_grads, params, v)\n",
    "        trace_estimate += torch.dot(v, Hv).item()\n",
    "\n",
    "    return trace_estimate / num_samples\n"
   ]
  },
  {
   "cell_type": "code",
   "execution_count": 125,
   "id": "ce5244ca",
   "metadata": {},
   "outputs": [
    {
     "name": "stdout",
     "output_type": "stream",
     "text": [
      "Total loss: tensor(991.3391, device='cuda:0', grad_fn=<AddBackward0>)\n"
     ]
    },
    {
     "data": {
      "text/plain": [
       "18441.66318359375"
      ]
     },
     "execution_count": 125,
     "metadata": {},
     "output_type": "execute_result"
    }
   ],
   "source": [
    "hessian_trace(curr_net, trainloader, device=args.device, num_samples=10)"
   ]
  },
  {
   "cell_type": "code",
   "execution_count": 136,
   "id": "6113a8fe",
   "metadata": {},
   "outputs": [],
   "source": [
    "import pandas as pd"
   ]
  },
  {
   "cell_type": "code",
   "execution_count": null,
   "id": "b1436a4b",
   "metadata": {},
   "outputs": [
    {
     "data": {
      "text/plain": [
       "array([2.375978 , 2.3263574, 2.2703838, 2.2433445, 2.2314353, 2.22051  ,\n",
       "       2.231141 , 2.18674  , 2.091715 , 2.1019928, 2.0846071, 2.1244626,\n",
       "       2.037027 , 1.970298 , 2.0751536, 2.0324283, 1.9767723, 1.9201167,\n",
       "       1.9392891, 2.0197687, 1.9189138, 1.9116201, 1.8724055, 1.9426538,\n",
       "       1.8786275, 1.8455395, 1.8787649, 1.9117005, 1.8725166, 1.8122324,\n",
       "       1.8064167, 1.7758642, 1.7608258, 1.7506541, 1.7244725, 1.802722 ,\n",
       "       1.7307887, 1.7396336, 1.6616614, 1.8411194, 1.6644465, 1.7025416,\n",
       "       1.7019308, 1.6982054, 1.6299539, 1.7337363, 1.615294 , 1.6918243,\n",
       "       1.5869341, 1.6523162, 1.6460404, 1.6943296, 1.7093141, 1.5455196,\n",
       "       1.6116385, 1.5746458, 1.5921956, 1.5368676, 1.5485489, 1.6210872,\n",
       "       1.4631965, 1.5908461, 1.5493379, 1.5169795, 1.490879 , 1.4952278,\n",
       "       1.4926162, 1.4616133, 1.4654875, 1.3943545, 1.5099791, 1.5308877],\n",
       "      dtype=float32)"
      ]
     },
     "execution_count": 139,
     "metadata": {},
     "output_type": "execute_result"
    }
   ],
   "source": [
    "train_losses = np.array(train_losses)"
   ]
  },
  {
   "cell_type": "code",
   "execution_count": 151,
   "id": "ded73505",
   "metadata": {},
   "outputs": [],
   "source": [
    "tmp = {}\n",
    "tmp['train_loss'] = train_losses\n",
    "tmp['test_loss'] = train_losses\n",
    "\n",
    "tmp2 = {}\n",
    "tmp2['train_loss'] = train_losses\n",
    "tmp2['test_loss'] = train_losses"
   ]
  },
  {
   "cell_type": "code",
   "execution_count": 152,
   "id": "71015f6c",
   "metadata": {},
   "outputs": [
    {
     "data": {
      "text/html": [
       "<div>\n",
       "<style scoped>\n",
       "    .dataframe tbody tr th:only-of-type {\n",
       "        vertical-align: middle;\n",
       "    }\n",
       "\n",
       "    .dataframe tbody tr th {\n",
       "        vertical-align: top;\n",
       "    }\n",
       "\n",
       "    .dataframe thead th {\n",
       "        text-align: right;\n",
       "    }\n",
       "</style>\n",
       "<table border=\"1\" class=\"dataframe\">\n",
       "  <thead>\n",
       "    <tr style=\"text-align: right;\">\n",
       "      <th></th>\n",
       "      <th>train_loss</th>\n",
       "      <th>test_loss</th>\n",
       "    </tr>\n",
       "  </thead>\n",
       "  <tbody>\n",
       "    <tr>\n",
       "      <th>0</th>\n",
       "      <td>[2.375978, 2.3263574, 2.2703838, 2.2433445, 2....</td>\n",
       "      <td>[2.375978, 2.3263574, 2.2703838, 2.2433445, 2....</td>\n",
       "    </tr>\n",
       "    <tr>\n",
       "      <th>1</th>\n",
       "      <td>[2.375978, 2.3263574, 2.2703838, 2.2433445, 2....</td>\n",
       "      <td>[2.375978, 2.3263574, 2.2703838, 2.2433445, 2....</td>\n",
       "    </tr>\n",
       "  </tbody>\n",
       "</table>\n",
       "</div>"
      ],
      "text/plain": [
       "                                          train_loss  \\\n",
       "0  [2.375978, 2.3263574, 2.2703838, 2.2433445, 2....   \n",
       "1  [2.375978, 2.3263574, 2.2703838, 2.2433445, 2....   \n",
       "\n",
       "                                           test_loss  \n",
       "0  [2.375978, 2.3263574, 2.2703838, 2.2433445, 2....  \n",
       "1  [2.375978, 2.3263574, 2.2703838, 2.2433445, 2....  "
      ]
     },
     "execution_count": 152,
     "metadata": {},
     "output_type": "execute_result"
    }
   ],
   "source": [
    "train_df = pd.DataFrame([tmp, tmp2])\n",
    "\n",
    "train_df"
   ]
  },
  {
   "cell_type": "code",
   "execution_count": 153,
   "id": "d8bd35a5",
   "metadata": {},
   "outputs": [
    {
     "data": {
      "text/plain": [
       "0    [2.375978, 2.3263574, 2.2703838, 2.2433445, 2....\n",
       "1    [2.375978, 2.3263574, 2.2703838, 2.2433445, 2....\n",
       "Name: train_loss, dtype: object"
      ]
     },
     "execution_count": 153,
     "metadata": {},
     "output_type": "execute_result"
    }
   ],
   "source": [
    "train_df['train_loss']"
   ]
  },
  {
   "cell_type": "code",
   "execution_count": 156,
   "id": "efd59369",
   "metadata": {},
   "outputs": [
    {
     "data": {
      "text/plain": [
       "array([1])"
      ]
     },
     "execution_count": 156,
     "metadata": {},
     "output_type": "execute_result"
    }
   ],
   "source": [
    "np.arange(1, 1 + 1)\n"
   ]
  },
  {
   "cell_type": "code",
   "execution_count": null,
   "id": "2210d12f",
   "metadata": {},
   "outputs": [],
   "source": []
  }
 ],
 "metadata": {
  "kernelspec": {
   "display_name": "base",
   "language": "python",
   "name": "python3"
  },
  "language_info": {
   "codemirror_mode": {
    "name": "ipython",
    "version": 3
   },
   "file_extension": ".py",
   "mimetype": "text/x-python",
   "name": "python",
   "nbconvert_exporter": "python",
   "pygments_lexer": "ipython3",
   "version": "3.11.7"
  }
 },
 "nbformat": 4,
 "nbformat_minor": 5
}
